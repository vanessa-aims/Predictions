{
 "cells": [
  {
   "cell_type": "code",
   "execution_count": 7,
   "id": "65cf87b6",
   "metadata": {},
   "outputs": [],
   "source": [
    "import warnings\n",
    "from glob import glob\n",
    "\n",
    "import matplotlib.pyplot as plt\n",
    "import pandas as pd\n",
    "import seaborn as sns\n",
    "import plotly.express as px\n",
    "import wqet_grader\n",
    "from category_encoders import OneHotEncoder\n",
    "from IPython.display import VimeoVideo\n",
    "from ipywidgets import Dropdown, FloatSlider, IntSlider, interact\n",
    "from sklearn.impute import SimpleImputer\n",
    "from sklearn.linear_model import LinearRegression, Ridge  # noqa F401\n",
    "from sklearn.metrics import mean_absolute_error\n",
    "from sklearn.pipeline import make_pipeline\n",
    "from sklearn.utils.validation import check_is_fitted\n",
    "\n"
   ]
  },
  {
   "cell_type": "code",
   "execution_count": null,
   "id": "84cac34d",
   "metadata": {},
   "outputs": [],
   "source": [
    "# Build your `wrangle` function\n",
    "def wrangle(filepath):\n",
    "    df=pd.read_csv(filepath)\n",
    "    \n",
    "    #subset apartment\n",
    "    mask_apt=df['property_type']=='apartment'\n",
    "    \n",
    "    #subset Capital Federal\n",
    "    mask_ba=df['place_with_parent_names'].str.contains('Distrito Federal')\n",
    "    \n",
    "    \n",
    "    #subset price usd<100000\n",
    "    mask_price=df['price_aprox_usd']<100_000\n",
    "    \n",
    "    df = df[mask_ba & mask_apt & mask_price]\n",
    "    #remove ooutliers\n",
    "    low, high = df[\"surface_covered_in_m2\"].quantile([0.1, 0.9])\n",
    "    mask_area = df[\"surface_covered_in_m2\"].between(low, high)\n",
    "    \n",
    "    df = df[mask_area]\n",
    "    \n",
    "    # Split \"lat-lon\" column\n",
    "    df[[\"lat\", \"lon\"]] = df[\"lat-lon\"].str.split(\",\", expand=True).astype(float)\n",
    "    df.drop(columns=\"lat-lon\", inplace=True)\n",
    "    \n",
    "    #split borough\n",
    "    df[\"borough\"] = df['place_with_parent_names'].str.split(\"|\",expand=True)[1]\n",
    "    df.drop(columns='place_with_parent_names', inplace=True)\n",
    "    \n",
    "    #drop features with high null values\n",
    "    df.drop(columns=[\"floor\", \"expenses\", 'rooms','price_usd_per_m2','surface_total_in_m2'], \n",
    "            inplace=True)\n",
    "    \n",
    "    #drop low and high cardinality categorical features\n",
    "    df.drop(columns=[\"operation\", \"property_type\", 'currency', 'properati_url'], inplace=True)\n",
    "    \n",
    "    #Drop leaky columns\n",
    "    df.drop(columns=['price','price_aprox_local_currency',\n",
    "                     'price_per_m2'], inplace=True)\n",
    "    \n",
    "    #drop columns with multicolinearity\n",
    "    return df"
   ]
  },
  {
   "cell_type": "code",
   "execution_count": null,
   "id": "df08ae2c",
   "metadata": {},
   "outputs": [],
   "source": [
    "frame1 = wrangle('data/mexico-city-real-estate-1.csv')\n",
    "print(frame1.info())\n",
    "frame1.head()"
   ]
  },
  {
   "cell_type": "code",
   "execution_count": null,
   "id": "c317825e",
   "metadata": {},
   "outputs": [],
   "source": [
    "# test your wrangle function and explore the data\n",
    "df=pd.read_csv('data/mexico-city-real-estate-1.csv')\n",
    "\n",
    "df.head()"
   ]
  },
  {
   "cell_type": "code",
   "execution_count": null,
   "id": "ecf384e3",
   "metadata": {},
   "outputs": [],
   "source": [
    "#using glob to import all our files\n",
    "files = glob('data/mexico-city-real-estate-*.csv')\n",
    "files"
   ]
  },
  {
   "cell_type": "code",
   "execution_count": null,
   "id": "582c99e1",
   "metadata": {},
   "outputs": [],
   "source": [
    "frames = [wrangle(file) for file in files]\n",
    "df = pd.concat(frames, ignore_index=True)\n",
    "print(df.info())\n",
    "df.head()"
   ]
  },
  {
   "cell_type": "code",
   "execution_count": null,
   "id": "9a36a9f7",
   "metadata": {},
   "outputs": [],
   "source": [
    "# Build histogram\n",
    "plt.hist(df['price_aprox_usd'])\n",
    "\n",
    "\n",
    "# Label axes\n",
    "plt.xlabel(\"Price [$]\")\n",
    "plt.ylabel(\"Count\")\n",
    "\n",
    "# Add title\n",
    "\n",
    "plt.title(\"Distribution of Apartment Prices\")\n"
   ]
  },
  {
   "cell_type": "code",
   "execution_count": null,
   "id": "2216615e",
   "metadata": {},
   "outputs": [],
   "source": [
    "# Build scatter plot\n",
    "plt.scatter(x=df[\"surface_covered_in_m2\"],y=df[\"price_aprox_usd\"])\n",
    "\n",
    "\n",
    "# Label axes\n",
    "plt.xlabel(\"Area [sq meters]\")\n",
    "plt.ylabel(\"Price [USD]\")\n",
    "\n",
    "# Add title\n",
    "plt.title(\"Mexico City: Price vs. Area\")\n"
   ]
  },
  {
   "cell_type": "code",
   "execution_count": null,
   "id": "e3d6e5fe",
   "metadata": {},
   "outputs": [],
   "source": [
    "# Plot Mapbox location and price\n",
    "fig = fig = px.scatter_mapbox(\n",
    "    df,  # Our DataFrame\n",
    "    lat='lat',\n",
    "    lon='lon',\n",
    "    width=600,  # Width of map\n",
    "    height=600,  # Height of map\n",
    "    color='price_aprox_usd',\n",
    "    hover_data=[\"price_aprox_usd\"],  # Display price when hovering mouse over house\n",
    ")"
   ]
  },
  {
   "cell_type": "code",
   "execution_count": null,
   "id": "240d9d66",
   "metadata": {},
   "outputs": [],
   "source": [
    "# Split data into feature matrix `X_train` and target vector `y_train`.\n",
    "target = \"price_aprox_usd\"\n",
    "y_train = df[target]\n",
    "feature= ['surface_covered_in_m2', 'lat', 'lon', 'borough']\n",
    "X_train =df[feature]"
   ]
  },
  {
   "cell_type": "code",
   "execution_count": null,
   "id": "905a6895",
   "metadata": {},
   "outputs": [],
   "source": [
    "#build a baseline model\n",
    "y_mean = y_train.mean()\n",
    "y_pred_baseline = [y_mean]*len(y_train)\n",
    "baseline_mae = mean_absolute_error(y_train, y_pred_baseline)\n",
    "print(\"Mean apt price:\", y_mean)\n",
    "print(\"Baseline MAE:\", baseline_mae)"
   ]
  },
  {
   "cell_type": "code",
   "execution_count": null,
   "id": "50c099a6",
   "metadata": {},
   "outputs": [],
   "source": [
    "# Build Model using pipeline\n",
    "model = make_pipeline(\n",
    "      OneHotEncoder(use_cat_names=True),\n",
    "      SimpleImputer(),\n",
    "      Ridge()\n",
    "\n",
    ")\n",
    "# Fit model\n",
    "model.fit(X_train, y_train)\n",
    "\n"
   ]
  },
  {
   "cell_type": "code",
   "execution_count": null,
   "id": "aa794dee",
   "metadata": {},
   "outputs": [],
   "source": [
    "#import the data for testing\n",
    "X_test = pd.read_csv('data/mexico-city-test-features.csv')\n",
    "print(X_test.info())\n",
    "X_test.head()"
   ]
  },
  {
   "cell_type": "code",
   "execution_count": null,
   "id": "476288f8",
   "metadata": {},
   "outputs": [],
   "source": [
    "y_test_pred = pd.Series(model.predict(X_test))\n",
    "y_test_pred.head()"
   ]
  },
  {
   "cell_type": "code",
   "execution_count": null,
   "id": "498d05fc",
   "metadata": {},
   "outputs": [],
   "source": [
    "#looking for coefficients to build the prediction function\n",
    "coefficients =model.named_steps['ridge'].coef_\n",
    "features = model.named_steps['onehotencoder'].get_feature_names()\n",
    "feat_imp = pd.Series(coefficients, index=features)\n",
    "feat_imp"
   ]
  },
  {
   "cell_type": "code",
   "execution_count": null,
   "id": "f0dbbb6c",
   "metadata": {},
   "outputs": [],
   "source": [
    "# Build bar chart\n",
    "feat_imp.sort_values(key=abs).tail(15).plot(kind='barh')\n",
    "\n",
    "# Label axes\n",
    "plt.xlabel('Importance USD')\n",
    "plt.ylabel('Feature')\n",
    "# Add title\n",
    "plt.title('Feature Importance For apartment Price');\n"
   ]
  },
  {
   "cell_type": "code",
   "execution_count": null,
   "id": "b7765632",
   "metadata": {},
   "outputs": [],
   "source": []
  }
 ],
 "metadata": {
  "kernelspec": {
   "display_name": "Python 3 (ipykernel)",
   "language": "python",
   "name": "python3"
  },
  "language_info": {
   "codemirror_mode": {
    "name": "ipython",
    "version": 3
   },
   "file_extension": ".py",
   "mimetype": "text/x-python",
   "name": "python",
   "nbconvert_exporter": "python",
   "pygments_lexer": "ipython3",
   "version": "3.9.12"
  }
 },
 "nbformat": 4,
 "nbformat_minor": 5
}

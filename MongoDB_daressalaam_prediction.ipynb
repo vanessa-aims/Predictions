{
 "cells": [
  {
   "cell_type": "code",
   "execution_count": 8,
   "id": "40fbc74b",
   "metadata": {},
   "outputs": [],
   "source": [
    "# Import libraries\n",
    "import warnings\n",
    "from pprint import PrettyPrinter\n",
    "import matplotlib.pyplot as plt\n",
    "import pandas as pd\n",
    "import plotly.express as px\n",
    "from IPython.display import VimeoVideo\n",
    "from pymongo import MongoClient\n",
    "from sklearn.metrics import mean_absolute_error, accuracy_score\n",
    "from statsmodels.graphics.tsaplots import plot_acf, plot_pacf\n",
    "from statsmodels.tsa.ar_model import AutoReg\n",
    "import inspect\n",
    "import time\n",
    "from sklearn.metrics import precision_score, recall_score, f1_score,r2_score\n",
    "from statsmodels.tsa.arima.model import ARIMA\n",
    "warnings.simplefilter(action=\"ignore\", category=FutureWarning)\n"
   ]
  },
  {
   "cell_type": "code",
   "execution_count": 9,
   "id": "e4f9fbcb",
   "metadata": {},
   "outputs": [],
   "source": [
    "#Connect to MongoDB server running at host \"localhost\" on port 27017\n",
    "#Then connect to the \"air-quality\" database and assign the collection for Dar es Salaam to the variable name dar\n",
    "client = MongoClient(host='localhost', port=27017)\n",
    "db = client['air-quality']\n",
    "dar = db['dar-es-salaam']"
   ]
  },
  {
   "cell_type": "code",
   "execution_count": 10,
   "id": "fd9ee887",
   "metadata": {},
   "outputs": [],
   "source": [
    "def wrangle(collection):\n",
    "\n",
    "    results = collection.find(\n",
    "        {\"metadata.site\": 11, \"metadata.measurement\": \"P2\"},\n",
    "        projection={\"P2\": 1, \"timestamp\": 1, \"_id\": 0},\n",
    "    )\n",
    "\n",
    "    # Read results into DataFrame\n",
    "    df = pd.DataFrame(list(results)).set_index(\"timestamp\")\n",
    "\n",
    "    # Localize timezone\n",
    "    df.index = df.index.tz_localize(\"UTC\").tz_convert(\"Africa/Dar_es_Salaam\")\n",
    "\n",
    "    # Remove outliers\n",
    "    df = df[df[\"P2\"] <= 100]\n",
    "\n",
    "    # Resample and forward-fill\n",
    "    y = df['P2'].resample('1H').mean().fillna(method='ffill')\n",
    "    return y"
   ]
  },
  {
   "cell_type": "code",
   "execution_count": null,
   "id": "357faed8",
   "metadata": {},
   "outputs": [],
   "source": [
    "y = wrangle(dar)\n",
    "y.head()"
   ]
  },
  {
   "cell_type": "code",
   "execution_count": null,
   "id": "c6bea44c",
   "metadata": {},
   "outputs": [],
   "source": [
    "fig, ax = plt.subplots(figsize=(15, 6))\n",
    "\n",
    "y.plot(xlabel='Date', ylabel='PM2.5 Level', ax=ax);"
   ]
  },
  {
   "cell_type": "code",
   "execution_count": null,
   "id": "cec9de80",
   "metadata": {},
   "outputs": [],
   "source": [
    "fig, ax = plt.subplots(figsize=(15, 6))\n",
    "y.rolling(168).mean().plot(ax=ax, ylabel='PM2.5 Level', \n",
    "                           title=\"Dar es Salaam PM2.5 Levels, 7-Day Rolling Average\");"
   ]
  },
  {
   "cell_type": "code",
   "execution_count": null,
   "id": "b487d72a",
   "metadata": {},
   "outputs": [],
   "source": [
    "fig, ax = plt.subplots(figsize=(15, 6))\n",
    "plot_acf(y,ax=ax)\n",
    "plt.xlabel(\"Lag [hours]\")\n",
    "plt.ylabel(\"Correlation Coefficient\")\n",
    "plt.title(\"Dar es Salaam PM2.5 Readings, ACF\");"
   ]
  },
  {
   "cell_type": "code",
   "execution_count": null,
   "id": "0018dc53",
   "metadata": {},
   "outputs": [],
   "source": [
    "fig, ax = plt.subplots(figsize=(15, 6))\n",
    "plot_pacf(y,ax=ax)\n",
    "plt.xlabel(\"Lag [hours]\")\n",
    "plt.ylabel(\"Correlation Coefficient\")\n",
    "plt.title(\"Dar es Salaam PM2.5 Readings, PACF\");"
   ]
  },
  {
   "cell_type": "code",
   "execution_count": null,
   "id": "e7b306fc",
   "metadata": {},
   "outputs": [],
   "source": [
    "cutoff_test = int(len(y)*0.9)\n",
    "y_train = y.iloc[:cutoff_test]\n",
    "y_test = y.iloc[cutoff_test:]\n",
    "print(\"y_train shape:\", y_train.shape)\n",
    "print(\"y_test shape:\", y_test.shape)\n"
   ]
  },
  {
   "cell_type": "code",
   "execution_count": null,
   "id": "40def8c1",
   "metadata": {},
   "outputs": [],
   "source": [
    "#Build a baseline model\n",
    "y_train_mean = y_train.mean()\n",
    "y_pred_baseline = [y_train_mean]*len(y_train)\n",
    "mae_baseline = mean_absolute_error(y_train, y_pred_baseline)\n",
    "\n",
    "\n",
    "print(\"Mean P2 Reading:\", y_train_mean)\n",
    "print(\"Baseline MAE:\", mae_baseline)"
   ]
  },
  {
   "cell_type": "code",
   "execution_count": null,
   "id": "ec9a6073",
   "metadata": {},
   "outputs": [],
   "source": [
    "#looking for the best hyoerparameters for AR models\n",
    "p_params = range(1, 31)\n",
    "maes = []\n",
    "for p in p_params:\n",
    "    # Note start time\n",
    "    start_time = time.time()\n",
    "    # Train model\n",
    "    model = AutoReg(y_train,lags=p).fit()\n",
    "    # Calculate model training time\n",
    "    elapsed_time = round(time.time() - start_time, 2)\n",
    "    print(f\"Trained AR {p} in {elapsed_time} seconds.\")\n",
    "    # Generate in-sample (training) predictions\n",
    "    y_pred = model.predict().dropna()\n",
    "    # Calculate training MAE\n",
    "    mae = mean_absolute_error(y_train.iloc[p:],y_pred)\n",
    "    # Append MAE to list in dictionary\n",
    "    maes.append(mae)\n",
    "print((maes.index(min(maes))+1),min(maes) )"
   ]
  },
  {
   "cell_type": "code",
   "execution_count": null,
   "id": "38a2c1a3",
   "metadata": {},
   "outputs": [],
   "source": [
    "#print the best hyperparameter\n",
    "best_p = maes.index(min(maes))+1\n",
    "best_model = AutoReg(y_train,lags=best_p ).fit()\n",
    "best_model \n",
    "best_p"
   ]
  },
  {
   "cell_type": "code",
   "execution_count": null,
   "id": "8d29f7b1",
   "metadata": {},
   "outputs": [],
   "source": [
    "y_train_resid = best_model.resid\n",
    "y_train_resid.name = \"residuals\"\n",
    "y_train_resid.head()\n"
   ]
  },
  {
   "cell_type": "code",
   "execution_count": null,
   "id": "919f2554",
   "metadata": {},
   "outputs": [],
   "source": [
    "y_pred_wfv = pd.Series()\n",
    "history = y_train.copy()\n",
    "for i in range(len(y_test)):\n",
    "    model=AutoReg(history,lags=best_p).fit()\n",
    "    next_pred=model.forecast()\n",
    "    y_pred_wfv=y_pred_wfv.append(next_pred)\n",
    "    history=history.append(y_test[next_pred.index])\n",
    "y_pred_wfv.name = \"prediction\"\n",
    "y_pred_wfv.index.name = \"timestamp\"\n",
    "y_pred_wfv.head()"
   ]
  },
  {
   "cell_type": "code",
   "execution_count": null,
   "id": "704e0ab6",
   "metadata": {},
   "outputs": [],
   "source": [
    "test_mae = mean_absolute_error(y_test,y_pred_wfv)\n",
    "print(\"Test MAE (walk forward validation):\", round(test_mae, 4))"
   ]
  },
  {
   "cell_type": "code",
   "execution_count": null,
   "id": "9fcd61dc",
   "metadata": {},
   "outputs": [],
   "source": [
    "print(\"Precision Score: \\t {0:.4f}\".format(r2_score(y_test, \n",
    "                                                           y_pred_wfv)))"
   ]
  },
  {
   "cell_type": "code",
   "execution_count": null,
   "id": "5be206d3",
   "metadata": {},
   "outputs": [],
   "source": []
  },
  {
   "cell_type": "code",
   "execution_count": null,
   "id": "2847bede",
   "metadata": {},
   "outputs": [],
   "source": []
  }
 ],
 "metadata": {
  "kernelspec": {
   "display_name": "Python 3 (ipykernel)",
   "language": "python",
   "name": "python3"
  },
  "language_info": {
   "codemirror_mode": {
    "name": "ipython",
    "version": 3
   },
   "file_extension": ".py",
   "mimetype": "text/x-python",
   "name": "python",
   "nbconvert_exporter": "python",
   "pygments_lexer": "ipython3",
   "version": "3.9.12"
  }
 },
 "nbformat": 4,
 "nbformat_minor": 5
}
